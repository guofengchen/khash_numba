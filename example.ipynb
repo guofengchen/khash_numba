{
 "cells": [
  {
   "cell_type": "code",
   "execution_count": 1,
   "metadata": {},
   "outputs": [],
   "source": [
    "import numba as nb\n",
    "import numpy as np\n",
    "\n",
    "import _khash_ffi\n",
    "\n",
    "from numba import cffi_support\n",
    "\n",
    "cffi_support.register_module(_khash_ffi)\n",
    "\n",
    "khash_init = _khash_ffi.lib.khash_int2int_init\n",
    "khash_get = _khash_ffi.lib.khash_int2int_get\n",
    "khash_set = _khash_ffi.lib.khash_int2int_set\n",
    "khash_destroy = _khash_ffi.lib.khash_int2int_destroy\n"
   ]
  },
  {
   "cell_type": "code",
   "execution_count": 28,
   "metadata": {
    "collapsed": true
   },
   "outputs": [],
   "source": [
    "@nb.jit\n",
    "def test1(fid, values, fetch_ids):\n",
    "    # Build map of fid's (non-continuous) to fix (continuous compact)\n",
    "    fid2fix = np.zeros(np.max(fid)+1,dtype=np.int64)\n",
    "    fid2fix[np.unique(fid)] = np.arange(len(np.unique(fid)),dtype=np.int64)\n",
    "\n",
    "    # Now fetch a selection of values    \n",
    "    s = np.empty_like(fetch_ids, dtype=np.float64)\n",
    "    for i in range(fetch_ids.shape[0]):\n",
    "        ii = fid2fix[fetch_ids[i]]\n",
    "        s[i] = values[ii]\n",
    "        \n",
    "    return s"
   ]
  },
  {
   "cell_type": "code",
   "execution_count": 37,
   "metadata": {
    "collapsed": true
   },
   "outputs": [],
   "source": [
    "@nb.njit\n",
    "def test2(fid, values, fetch_ids):\n",
    "    d = khash_init()\n",
    "    \n",
    "    fix = 0\n",
    "    for i in range(fid.shape[0]):\n",
    "        khash_set(d, fid[i], fix)\n",
    "        fix += 1  \n",
    "        \n",
    "    s = np.empty_like(fetch_ids, dtype=np.float64)\n",
    "    for j in range(fetch_ids.shape[0]):\n",
    "        ii = khash_get(d, fetch_ids[j], -99)\n",
    "        s[j] = values[ii]\n",
    "    \n",
    "    khash_destroy(d)\n",
    "    return s"
   ]
  },
  {
   "cell_type": "code",
   "execution_count": 112,
   "metadata": {},
   "outputs": [],
   "source": [
    "max_fid = 215000\n",
    "n_fids = 130\n",
    "n_fetch = 100\n",
    "\n",
    "_fids = np.arange(max_fid)\n",
    "np.random.shuffle(_fids)\n",
    "fids = np.empty(n_fids, dtype=np.int64)\n",
    "fids[-1] = max_fid\n",
    "fids[:-1] = np.sort(_fids[:n_fids -1])\n",
    "\n",
    "values = np.random.normal(size=(n_fids))\n",
    "fetch_ids = np.random.choice(fids, size=(n_fetch,), replace=True)"
   ]
  },
  {
   "cell_type": "code",
   "execution_count": 113,
   "metadata": {},
   "outputs": [],
   "source": [
    "s1 = test1(fids, values, fetch_ids)"
   ]
  },
  {
   "cell_type": "code",
   "execution_count": 114,
   "metadata": {},
   "outputs": [],
   "source": [
    "s2 = test2(fids, values, fetch_ids)"
   ]
  },
  {
   "cell_type": "code",
   "execution_count": 115,
   "metadata": {},
   "outputs": [
    {
     "data": {
      "text/plain": [
       "True"
      ]
     },
     "execution_count": 115,
     "metadata": {},
     "output_type": "execute_result"
    }
   ],
   "source": [
    "np.allclose(s1, s2)"
   ]
  },
  {
   "cell_type": "code",
   "execution_count": 116,
   "metadata": {},
   "outputs": [
    {
     "name": "stdout",
     "output_type": "stream",
     "text": [
      "10000 loops, best of 3: 86.4 µs per loop\n"
     ]
    }
   ],
   "source": [
    "%timeit s1 = test1(fids, values, fetch_ids)"
   ]
  },
  {
   "cell_type": "code",
   "execution_count": 117,
   "metadata": {},
   "outputs": [
    {
     "name": "stdout",
     "output_type": "stream",
     "text": [
      "100000 loops, best of 3: 7.59 µs per loop\n"
     ]
    }
   ],
   "source": [
    "%timeit s2 = test2(fids, values, fetch_ids)"
   ]
  },
  {
   "cell_type": "code",
   "execution_count": null,
   "metadata": {
    "collapsed": true
   },
   "outputs": [],
   "source": []
  },
  {
   "cell_type": "code",
   "execution_count": null,
   "metadata": {
    "collapsed": true
   },
   "outputs": [],
   "source": []
  }
 ],
 "metadata": {
  "kernelspec": {
   "display_name": "Python 2",
   "language": "python",
   "name": "python2"
  },
  "language_info": {
   "codemirror_mode": {
    "name": "ipython",
    "version": 2
   },
   "file_extension": ".py",
   "mimetype": "text/x-python",
   "name": "python",
   "nbconvert_exporter": "python",
   "pygments_lexer": "ipython2",
   "version": "2.7.13"
  }
 },
 "nbformat": 4,
 "nbformat_minor": 2
}
